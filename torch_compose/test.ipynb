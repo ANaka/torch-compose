{
 "cells": [
  {
   "cell_type": "code",
   "execution_count": 12,
   "metadata": {},
   "outputs": [],
   "source": [
    "from lightning import LightningModule, seed_everything, LightningDataModule, Callback, Trainer\n",
    "from hydra_zen import builds, make_config, instantiate\n",
    "from omegaconf import MISSING, DictConfig, OmegaConf"
   ]
  },
  {
   "cell_type": "code",
   "execution_count": 13,
   "metadata": {},
   "outputs": [],
   "source": [
    "lit_module_config = builds(LightningModule, populate_full_signature=True)"
   ]
  },
  {
   "cell_type": "code",
   "execution_count": 16,
   "metadata": {},
   "outputs": [],
   "source": [
    "x = lit_module_config()"
   ]
  },
  {
   "cell_type": "code",
   "execution_count": 19,
   "metadata": {},
   "outputs": [
    {
     "name": "stdout",
     "output_type": "stream",
     "text": [
      "Builds_LightningModule(_target_='lightning.pytorch.core.module.LightningModule')\n"
     ]
    }
   ],
   "source": [
    "print(x)"
   ]
  },
  {
   "cell_type": "code",
   "execution_count": 6,
   "metadata": {},
   "outputs": [],
   "source": [
    "c = make_config(lit_module=builds(LightningModule, populate_full_signature=True))"
   ]
  },
  {
   "cell_type": "code",
   "execution_count": 11,
   "metadata": {},
   "outputs": [
    {
     "data": {
      "text/plain": [
       "Config(lit_module=<class 'types.Builds_LightningModule'>)"
      ]
     },
     "execution_count": 11,
     "metadata": {},
     "output_type": "execute_result"
    }
   ],
   "source": [
    "c()"
   ]
  },
  {
   "cell_type": "code",
   "execution_count": null,
   "metadata": {},
   "outputs": [],
   "source": [
    "def pre_seed(seed:int):\n",
    "    seed_everything(seed)"
   ]
  },
  {
   "cell_type": "code",
   "execution_count": null,
   "metadata": {},
   "outputs": [],
   "source": [
    "def start_run(config):\n",
    "    run = instantiate(config.run)\n",
    "    with run(config=OmegaConf.to_container(OmegaConf.structured(config))) as run:\n",
    "        return train(\n",
    "            model=config.model, \n",
    "            datamodule=config.datamodule, \n",
    "            trainer=config.trainer,\n",
    "            optim=config.optim,\n",
    "            callbacks=config.callbacks,\n",
    "            seed=config.seed,\n",
    "            run=run,\n",
    "            )"
   ]
  },
  {
   "cell_type": "code",
   "execution_count": null,
   "metadata": {},
   "outputs": [],
   "source": [
    "def train(\n",
    "    model, \n",
    "    datamodule, \n",
    "    trainer,\n",
    "    optim, \n",
    "    run,\n",
    "    callbacks,\n",
    "    seed: int = 1234,\n",
    "    \n",
    "    ):\n",
    "    \n",
    "        \n",
    "    datamodule: LightningDataModule = instantiate(datamodule)\n",
    "\n",
    "    datamodule.prepare_data()\n",
    "    datamodule.setup()\n",
    "    \n",
    "    dl = iter(datamodule.train_dataloader())\n",
    "    batch = next(dl)\n",
    "\n",
    "    model: LightningModule = instantiate(model)\n",
    "\n",
    "    model.forward(batch)\n",
    "\n",
    "    model.init_weights()\n",
    "\n",
    "\n",
    "    trainer: Trainer = instantiate(trainer, callbacks=callbacks, _convert_=\"partial\")\n",
    "    \n",
    "    trainer.fit(model=model, datamodule=datamodule)"
   ]
  }
 ],
 "metadata": {
  "kernelspec": {
   "display_name": "torch-compose-LagqJUxr-py3.10",
   "language": "python",
   "name": "python3"
  },
  "language_info": {
   "codemirror_mode": {
    "name": "ipython",
    "version": 3
   },
   "file_extension": ".py",
   "mimetype": "text/x-python",
   "name": "python",
   "nbconvert_exporter": "python",
   "pygments_lexer": "ipython3",
   "version": "3.10.6"
  },
  "orig_nbformat": 4
 },
 "nbformat": 4,
 "nbformat_minor": 2
}
