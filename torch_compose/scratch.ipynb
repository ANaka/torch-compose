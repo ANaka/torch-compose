{
 "cells": [
  {
   "cell_type": "code",
   "execution_count": 12,
   "metadata": {},
   "outputs": [
    {
     "name": "stdout",
     "output_type": "stream",
     "text": [
      "The autoreload extension is already loaded. To reload it, use:\n",
      "  %reload_ext autoreload\n"
     ]
    }
   ],
   "source": [
    "from torch_compose.module import Nodule, NoduleGraph\n",
    "import torch\n",
    "from typing import Optional, Union, List, Dict\n",
    "import graphlib\n",
    "import networkx as nx\n",
    "\n",
    "%load_ext autoreload\n",
    "%autoreload 2"
   ]
  },
  {
   "cell_type": "code",
   "execution_count": 2,
   "metadata": {},
   "outputs": [],
   "source": [
    "class MyNodule(Nodule):\n",
    "    \n",
    "    def __init__(self, input_keys, output_keys):\n",
    "        super().__init__(input_keys, output_keys)\n",
    "        \n",
    "    def _forward(self, x):\n",
    "        xx = x + 1\n",
    "        return {'xx': xx}\n",
    "    \n",
    "    \n",
    "class MyNodule2(Nodule):\n",
    "    \n",
    "    def __init__(self, input_keys, output_keys):\n",
    "        super().__init__(input_keys, output_keys)\n",
    "        \n",
    "    def _forward(self, xx):\n",
    "        return {'xxx': xx**2}"
   ]
  },
  {
   "cell_type": "code",
   "execution_count": 3,
   "metadata": {},
   "outputs": [],
   "source": [
    "batch = {'x': torch.tensor(1.)}"
   ]
  },
  {
   "cell_type": "code",
   "execution_count": 4,
   "metadata": {},
   "outputs": [],
   "source": [
    "nodule = MyNodule(input_keys=['x'], output_keys = ['xx'])\n",
    "nodule2 = MyNodule2(input_keys=['xx'], output_keys = ['xxx'])"
   ]
  },
  {
   "cell_type": "code",
   "execution_count": 26,
   "metadata": {},
   "outputs": [
    {
     "data": {
      "text/plain": [
       "NoduleGraph(\n",
       "  (nodule2): MyNodule2()\n",
       ")"
      ]
     },
     "execution_count": 26,
     "metadata": {},
     "output_type": "execute_result"
    }
   ],
   "source": [
    "NoduleGraph(modules={'nodule': nodule, 'nodule2': nodule2})"
   ]
  },
  {
   "cell_type": "code",
   "execution_count": 13,
   "metadata": {},
   "outputs": [],
   "source": [
    "nodules={'nodule': nodule, 'nodule2': nodule2}"
   ]
  },
  {
   "cell_type": "code",
   "execution_count": 22,
   "metadata": {},
   "outputs": [],
   "source": [
    "\n",
    "graph = {}\n",
    "nodule_map = {}\n",
    "key_map = {}\n",
    "keys = list(nodules.keys())\n",
    "\n",
    "for ind, nodule in enumerate(nodules.values()):\n",
    "\n",
    "    input_keys = nodule.input_keys\n",
    "    output_keys = nodule.output_keys\n",
    "\n",
    "\n",
    "    for key in output_keys:\n",
    "        graph[key] = set(input_keys)\n",
    "        key_map[tuple(output_keys)] = keys[ind]\n",
    "    nodule_map[tuple(output_keys)] = nodule\n",
    "    \n",
    "graph = graph\n",
    "sorter = graphlib.TopologicalSorter(graph)\n",
    "ordering = [key for key in tuple(sorter.static_order())]\n",
    "\n",
    "\n",
    "#\n",
    "\n",
    "directed_graph = nx.DiGraph()\n",
    "for output, inputs in graph.items():\n",
    "    for input in inputs:\n",
    "        directed_graph.add_edge(input, output)\n",
    "directed_graph = directed_graph\n",
    "\n",
    "ordered_submodules = []\n",
    "ordered_keys = []\n",
    "for key in ordering:\n",
    "    for submodule_key in nodule_map.keys():\n",
    "        if key in submodule_key:\n",
    "            ordered_submodules.append(nodule_map.pop(submodule_key))\n",
    "            ordered_keys.append(key_map.pop(submodule_key))\n",
    "            break"
   ]
  },
  {
   "cell_type": "code",
   "execution_count": 9,
   "metadata": {},
   "outputs": [
    {
     "ename": "KeyError",
     "evalue": "'c'",
     "output_type": "error",
     "traceback": [
      "\u001b[0;31m---------------------------------------------------------------------------\u001b[0m",
      "\u001b[0;31mKeyError\u001b[0m                                  Traceback (most recent call last)",
      "Cell \u001b[0;32mIn[9], line 1\u001b[0m\n\u001b[0;32m----> 1\u001b[0m test_nodule()\n",
      "Cell \u001b[0;32mIn[8], line 9\u001b[0m, in \u001b[0;36mtest_nodule\u001b[0;34m()\u001b[0m\n\u001b[1;32m      7\u001b[0m nodule \u001b[39m=\u001b[39m TestNodule(input_keys\u001b[39m=\u001b[39m[\u001b[39m'\u001b[39m\u001b[39ma\u001b[39m\u001b[39m'\u001b[39m, \u001b[39m'\u001b[39m\u001b[39mb\u001b[39m\u001b[39m'\u001b[39m], output_keys\u001b[39m=\u001b[39m[\u001b[39m'\u001b[39m\u001b[39mc\u001b[39m\u001b[39m'\u001b[39m, \u001b[39m'\u001b[39m\u001b[39md\u001b[39m\u001b[39m'\u001b[39m])\n\u001b[1;32m      8\u001b[0m batch \u001b[39m=\u001b[39m {\u001b[39m'\u001b[39m\u001b[39ma\u001b[39m\u001b[39m'\u001b[39m: torch\u001b[39m.\u001b[39mtensor(\u001b[39m1\u001b[39m), \u001b[39m'\u001b[39m\u001b[39mb\u001b[39m\u001b[39m'\u001b[39m: torch\u001b[39m.\u001b[39mtensor(\u001b[39m2\u001b[39m)}\n\u001b[0;32m----> 9\u001b[0m output \u001b[39m=\u001b[39m nodule(batch)\n\u001b[1;32m     10\u001b[0m \u001b[39massert\u001b[39;00m output[\u001b[39m'\u001b[39m\u001b[39mc\u001b[39m\u001b[39m'\u001b[39m] \u001b[39m==\u001b[39m torch\u001b[39m.\u001b[39mtensor(\u001b[39m2\u001b[39m)\n\u001b[1;32m     11\u001b[0m \u001b[39massert\u001b[39;00m output[\u001b[39m'\u001b[39m\u001b[39md\u001b[39m\u001b[39m'\u001b[39m] \u001b[39m==\u001b[39m torch\u001b[39m.\u001b[39mtensor(\u001b[39m4\u001b[39m)\n",
      "File \u001b[0;32m~/.cache/pypoetry/virtualenvs/torch-compose-LagqJUxr-py3.10/lib/python3.10/site-packages/torch/nn/modules/module.py:1501\u001b[0m, in \u001b[0;36mModule._call_impl\u001b[0;34m(self, *args, **kwargs)\u001b[0m\n\u001b[1;32m   1496\u001b[0m \u001b[39m# If we don't have any hooks, we want to skip the rest of the logic in\u001b[39;00m\n\u001b[1;32m   1497\u001b[0m \u001b[39m# this function, and just call forward.\u001b[39;00m\n\u001b[1;32m   1498\u001b[0m \u001b[39mif\u001b[39;00m \u001b[39mnot\u001b[39;00m (\u001b[39mself\u001b[39m\u001b[39m.\u001b[39m_backward_hooks \u001b[39mor\u001b[39;00m \u001b[39mself\u001b[39m\u001b[39m.\u001b[39m_backward_pre_hooks \u001b[39mor\u001b[39;00m \u001b[39mself\u001b[39m\u001b[39m.\u001b[39m_forward_hooks \u001b[39mor\u001b[39;00m \u001b[39mself\u001b[39m\u001b[39m.\u001b[39m_forward_pre_hooks\n\u001b[1;32m   1499\u001b[0m         \u001b[39mor\u001b[39;00m _global_backward_pre_hooks \u001b[39mor\u001b[39;00m _global_backward_hooks\n\u001b[1;32m   1500\u001b[0m         \u001b[39mor\u001b[39;00m _global_forward_hooks \u001b[39mor\u001b[39;00m _global_forward_pre_hooks):\n\u001b[0;32m-> 1501\u001b[0m     \u001b[39mreturn\u001b[39;00m forward_call(\u001b[39m*\u001b[39;49margs, \u001b[39m*\u001b[39;49m\u001b[39m*\u001b[39;49mkwargs)\n\u001b[1;32m   1502\u001b[0m \u001b[39m# Do not call functions when jit is used\u001b[39;00m\n\u001b[1;32m   1503\u001b[0m full_backward_hooks, non_full_backward_hooks \u001b[39m=\u001b[39m [], []\n",
      "File \u001b[0;32m~/code/torch-compose/torch_compose/module.py:39\u001b[0m, in \u001b[0;36mNodule.forward\u001b[0;34m(self, batch)\u001b[0m\n\u001b[1;32m     37\u001b[0m inputs \u001b[39m=\u001b[39m \u001b[39mself\u001b[39m\u001b[39m.\u001b[39m_unpack_inputs(batch)\n\u001b[1;32m     38\u001b[0m outputs \u001b[39m=\u001b[39m \u001b[39mself\u001b[39m\u001b[39m.\u001b[39m_forward(\u001b[39m*\u001b[39m\u001b[39m*\u001b[39minputs)\n\u001b[0;32m---> 39\u001b[0m batch \u001b[39m=\u001b[39m \u001b[39mself\u001b[39;49m\u001b[39m.\u001b[39;49m_update_batch_dict(batch, outputs)\n\u001b[1;32m     41\u001b[0m \u001b[39mreturn\u001b[39;00m batch\n",
      "File \u001b[0;32m~/code/torch-compose/torch_compose/module.py:31\u001b[0m, in \u001b[0;36mNodule._update_batch_dict\u001b[0;34m(self, batch, output)\u001b[0m\n\u001b[1;32m     29\u001b[0m \u001b[39mdef\u001b[39;00m \u001b[39m_update_batch_dict\u001b[39m(\u001b[39mself\u001b[39m, batch:Dict, output:Dict[\u001b[39mstr\u001b[39m, torch\u001b[39m.\u001b[39mTensor]) \u001b[39m-\u001b[39m\u001b[39m>\u001b[39m Dict[\u001b[39mstr\u001b[39m, torch\u001b[39m.\u001b[39mTensor]:\n\u001b[1;32m     30\u001b[0m     \u001b[39mfor\u001b[39;00m k \u001b[39min\u001b[39;00m \u001b[39mself\u001b[39m\u001b[39m.\u001b[39moutput_keys:\n\u001b[0;32m---> 31\u001b[0m         batch[k] \u001b[39m=\u001b[39m output[k]\n\u001b[1;32m     32\u001b[0m     \u001b[39mreturn\u001b[39;00m batch\n",
      "\u001b[0;31mKeyError\u001b[0m: 'c'"
     ]
    }
   ],
   "source": [
    "test_nodule()"
   ]
  }
 ],
 "metadata": {
  "kernelspec": {
   "display_name": "torch-compose-LagqJUxr-py3.10",
   "language": "python",
   "name": "python3"
  },
  "language_info": {
   "codemirror_mode": {
    "name": "ipython",
    "version": 3
   },
   "file_extension": ".py",
   "mimetype": "text/x-python",
   "name": "python",
   "nbconvert_exporter": "python",
   "pygments_lexer": "ipython3",
   "version": "3.10.6"
  },
  "orig_nbformat": 4
 },
 "nbformat": 4,
 "nbformat_minor": 2
}
